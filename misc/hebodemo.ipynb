{
 "cells": [
  {
   "cell_type": "code",
   "execution_count": 1,
   "id": "d9f855f4",
   "metadata": {},
   "outputs": [],
   "source": [
    "import numpy as np\n",
    "import subprocess\n",
    "import pandas as pd\n",
    "import random\n",
    "import matplotlib.pyplot as plt\n",
    "\n",
    "\n",
    "# from hebo.design_space.design_space import DesignSpace\n",
    "# from hebo.optimizers.hebo import HEBO\n",
    "\n",
    "def obj(params : pd.DataFrame) -> np.ndarray:\n",
    "    return ((params.values - 0.37)**2).sum(axis = 1).reshape(-1, 1)\n",
    "        \n",
    "# space = DesignSpace().parse([{'name' : 'x', 'type' : 'num', 'lb' : -3, 'ub' : 3}])\n",
    "# opt   = HEBO(space)\n",
    "# for i in range(5):\n",
    "    # rec = opt.suggest(n_suggestions = 4)\n",
    "    # opt.observe(rec, obj(rec))\n",
    "    # print('After %d iterations, best obj is %.2f' % (i, opt.y.min()))\n"
   ]
  },
  {
   "cell_type": "code",
   "execution_count": 2,
   "id": "bd0686b4",
   "metadata": {
    "scrolled": true
   },
   "outputs": [],
   "source": [
    "tce_fn = '../tce/count.tce'\n",
    "\n",
    "def tcobj(params : pd.DataFrame) -> np.ndarray:\n",
    "    ppa_lst = []\n",
    "    for index, row in params.iterrows():\n",
    "        probe_fn = 'probe.cfg'\n",
    "        row.to_csv(probe_fn, header=False, index=False)\n",
    "        tcsimout = subprocess.check_output(['../bin/tcsim', tce_fn, '-c', probe_fn])\n",
    "        ppa = int(tcsimout.decode('utf-8').strip().split('\\n')[-1])\n",
    "        ppa_lst.append(ppa)\n",
    "    return np.array(ppa_lst).reshape(-1,1)\n",
    "\n",
    "space_cfg = [\n",
    "    {'name' : 'div_algo', 'type' : 'int', 'lb' : 0, 'ub' : 3},\n",
    "    {'name' : 'bp_init_guess', 'type' : 'int', 'lb' : 0, 'ub' : 1},\n",
    "    {'name' : 'bp_wrong_tol', 'type' : 'int', 'lb' : 0, 'ub' : 16},\n",
    "    {'name' : 'cache_setid_width', 'type' : 'int', 'lb' : 1, 'ub' : 5},\n",
    "    {'name' : 'cache_line_width', 'type' : 'int', 'lb' : 1, 'ub' : 6},\n",
    "    {'name' : 'cache_n_ways', 'type' : 'int', 'lb' : 1, 'ub' : 16},\n",
    "    ]"
   ]
  },
  {
   "cell_type": "code",
   "execution_count": 3,
   "id": "569abbd3",
   "metadata": {
    "scrolled": false
   },
   "outputs": [],
   "source": [
    "col_lst = []\n",
    "for d in space_cfg:\n",
    "    col_lst.append(d['name']);\n",
    "\n",
    "\n",
    "def randomised_search(repeats = None):\n",
    "    np.random.seed(42)\n",
    "    content = []\n",
    "\n",
    "    for da in range(space_cfg[0]['lb'], space_cfg[0]['ub'] + 1):\n",
    "        for big in range(space_cfg[1]['lb'], space_cfg[1]['ub'] + 1):\n",
    "            for bwt in range(space_cfg[2]['lb'], space_cfg[2]['ub'] + 1):\n",
    "                for csw in range(space_cfg[3]['lb'], space_cfg[3]['ub'] + 1):\n",
    "                    for ciw in range(space_cfg[4]['lb'], space_cfg[4]['ub'] + 1):\n",
    "                        for cnw in range(space_cfg[5]['lb'], space_cfg[5]['ub'] + 1):\n",
    "                            content.append([da, big, bwt, csw, ciw, cnw])\n",
    "\n",
    "    probe = pd.DataFrame(content, columns = col_lst)\n",
    "    idc = np.random.permutation(probe.shape[0])\n",
    "\n",
    "    idccut = probe.shape[0]\n",
    "    if (repeats != None and repeats < probe.shape[0]):\n",
    "        idccut = repeats\n",
    "    idc = idc[0:idccut]\n",
    "        \n",
    "    best_cost = 99999999\n",
    "    best_probe = None\n",
    "    \n",
    "    xdata = []\n",
    "    ydata = []\n",
    "    for i,l in enumerate(idc):\n",
    "        cost = tcobj(probe.loc[[l]])\n",
    "        if best_cost > cost:\n",
    "            best_cost = cost;\n",
    "            best_probe = probe.loc[[l]];\n",
    "        xdata.append(i)\n",
    "        ydata.append(best_cost[0][0])\n",
    "            \n",
    "    return xdata, ydata, best_probe"
   ]
  },
  {
   "cell_type": "code",
   "execution_count": 13,
   "id": "22f13bf6",
   "metadata": {
    "scrolled": true
   },
   "outputs": [
    {
     "data": {
      "image/png": "[encoded data removed]",
      "text/plain": [
       "<Figure size 1000x600 with 1 Axes>"
      ]
     },
     "metadata": {},
     "output_type": "display_data"
    },
    {
     "name": "stdout",
     "output_type": "stream",
     "text": [
      "       div_algo  bp_init_guess  bp_wrong_tol  cache_setid_width  \\\n",
      "27904         1              1             7                  1   \n",
      "\n",
      "       cache_line_width  cache_n_ways  \n",
      "27904                 5             1  \n"
     ]
    }
   ],
   "source": [
    "nrep  = 1000\n",
    "xdata, ydata, best_probe = randomised_search(nrep)\n",
    "plt.figure(figsize=(10,6))\n",
    "plt.xlim = ([0, nrep])\n",
    "# plt.yscale('')\n",
    "plt.plot(xdata, ydata, label='Brute-force search')\n",
    "plt.legend()\n",
    "plt.show()\n",
    "plt.savefig('search.png')\n",
    "plt.close()\n",
    "print(best_probe)\n",
    " "
   ]
  }
 ],
 "metadata": {
  "kernelspec": {
   "display_name": "Python 3 (ipykernel)",
   "language": "python",
   "name": "python3"
  },
  "language_info": {
   "codemirror_mode": {
    "name": "ipython",
    "version": 3
   },
   "file_extension": ".py",
   "mimetype": "text/x-python",
   "name": "python",
   "nbconvert_exporter": "python",
   "pygments_lexer": "ipython3",
   "version": "3.10.9"
  }
 },
 "nbformat": 4,
 "nbformat_minor": 5
}
